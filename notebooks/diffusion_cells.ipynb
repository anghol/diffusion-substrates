{
 "cells": [
  {
   "cell_type": "code",
   "execution_count": 1,
   "metadata": {},
   "outputs": [
    {
     "data": {
      "text/html": [
       "\n",
       "                <script type=\"application/javascript\" id=\"jupyter_black\">\n",
       "                (function() {\n",
       "                    if (window.IPython === undefined) {\n",
       "                        return\n",
       "                    }\n",
       "                    var msg = \"WARNING: it looks like you might have loaded \" +\n",
       "                        \"jupyter_black in a non-lab notebook with \" +\n",
       "                        \"`is_lab=True`. Please double check, and if \" +\n",
       "                        \"loading with `%load_ext` please review the README!\"\n",
       "                    console.log(msg)\n",
       "                    alert(msg)\n",
       "                })()\n",
       "                </script>\n",
       "                "
      ],
      "text/plain": [
       "<IPython.core.display.HTML object>"
      ]
     },
     "metadata": {},
     "output_type": "display_data"
    }
   ],
   "source": [
    "import jupyter_black\n",
    "\n",
    "import os, sys\n",
    "import numpy as np\n",
    "import matplotlib.pyplot as plt\n",
    "\n",
    "import torch\n",
    "import torch.nn as nn\n",
    "from torchvision.utils import save_image, make_grid\n",
    "from torch.utils.data import DataLoader\n",
    "\n",
    "from PIL import Image\n",
    "\n",
    "if not \"/usr/src\" in sys.path:\n",
    "    sys.path.append(\"/usr/src\")\n",
    "\n",
    "jupyter_black.load()"
   ]
  },
  {
   "cell_type": "code",
   "execution_count": 31,
   "metadata": {},
   "outputs": [],
   "source": [
    "# Custom modules\n",
    "from dataset import create_cell_dataset, augmentation_cells\n",
    "from unet import UNet\n",
    "from diffusion import Diffusion\n",
    "from utils_diffusion import (\n",
    "    train,\n",
    "    count_fid_metric,\n",
    "    show_grid_samples,\n",
    "    generate_and_save_samples,\n",
    "    create_animation,\n",
    ")"
   ]
  },
  {
   "cell_type": "code",
   "execution_count": 3,
   "metadata": {},
   "outputs": [],
   "source": [
    "# Dirs\n",
    "cell_dir = \"/usr/src/data/separated_cells\"\n",
    "new_cell_dir = \"/usr/src/data/separated_cells_new\"\n",
    "sample_dir = \"/usr/src/samples_cell\""
   ]
  },
  {
   "cell_type": "code",
   "execution_count": 5,
   "metadata": {},
   "outputs": [],
   "source": [
    "# Expanding of cell dataset using transforms\n",
    "augmentation_cells(cell_dir, new_cell_dir)"
   ]
  },
  {
   "cell_type": "code",
   "execution_count": 6,
   "metadata": {},
   "outputs": [],
   "source": [
    "# Settings\n",
    "image_size = 64\n",
    "channels = 1\n",
    "batch_size = 70\n",
    "device = \"cuda\" if torch.cuda.is_available() else \"cpu\"\n",
    "\n",
    "# Create the dataset of cells\n",
    "cell_dataset = create_cell_dataset(new_cell_dir, image_size)\n",
    "\n",
    "# Create the dataloader for training\n",
    "train_loader = DataLoader(cell_dataset, batch_size=batch_size, shuffle=True)"
   ]
  },
  {
   "cell_type": "code",
   "execution_count": 7,
   "metadata": {},
   "outputs": [
    {
     "name": "stdout",
     "output_type": "stream",
     "text": [
      "Len of dataset:  7640 images\n",
      "Len of trainloader:  110 batches\n",
      "Shape of batch:  torch.Size([70, 1, 64, 64])\n"
     ]
    }
   ],
   "source": [
    "# Check dataset and trainloader\n",
    "\n",
    "print(f\"Len of dataset:  {len(cell_dataset)} images\")\n",
    "print(f\"Len of trainloader:  {len(train_loader)} batches\")\n",
    "print(f\"Shape of batch:  {next(iter(train_loader)).shape}\")"
   ]
  },
  {
   "cell_type": "code",
   "execution_count": 15,
   "metadata": {},
   "outputs": [],
   "source": [
    "# Initialization of the diffusion\n",
    "\n",
    "timesteps = 400\n",
    "diffusion = Diffusion(timesteps)"
   ]
  },
  {
   "cell_type": "code",
   "execution_count": 16,
   "metadata": {},
   "outputs": [],
   "source": [
    "# Initialization of the denoising model\n",
    "\n",
    "model = UNet(\n",
    "    img_dim=image_size,\n",
    "    img_channels=channels,\n",
    "    in_channels=32,\n",
    "    channel_mults=(1, 2, 4, 8),\n",
    ")\n",
    "model.to(device)\n",
    "\n",
    "optimizer = torch.optim.Adam(model.parameters(), lr=1e-3)"
   ]
  },
  {
   "cell_type": "code",
   "execution_count": 17,
   "metadata": {},
   "outputs": [
    {
     "name": "stdout",
     "output_type": "stream",
     "text": [
      "----- Epoch 1 -----\n",
      "Loss: 0.5453195571899414\n",
      "Loss: 0.06966577470302582\n",
      "Loss: 0.05043421685695648\n",
      "Loss: 0.030592462047934532\n",
      "Loss: 0.0296009574085474\n"
     ]
    },
    {
     "data": {
      "application/vnd.jupyter.widget-view+json": {
       "model_id": "8cd88f54a0134b4face7cd11e33766c8",
       "version_major": 2,
       "version_minor": 0
      },
      "text/plain": [
       "sampling loop time step:   0%|          | 0/400 [00:00<?, ?it/s]"
      ]
     },
     "metadata": {},
     "output_type": "display_data"
    },
    {
     "name": "stdout",
     "output_type": "stream",
     "text": [
      "----- Epoch 2 -----\n",
      "Loss: 0.022830693051218987\n",
      "Loss: 0.020268622785806656\n",
      "Loss: 0.02168421633541584\n",
      "Loss: 0.01839601807296276\n",
      "Loss: 0.016838040202856064\n"
     ]
    },
    {
     "data": {
      "application/vnd.jupyter.widget-view+json": {
       "model_id": "558c7b1c7e1e41ea940ead9f6f00969a",
       "version_major": 2,
       "version_minor": 0
      },
      "text/plain": [
       "sampling loop time step:   0%|          | 0/400 [00:00<?, ?it/s]"
      ]
     },
     "metadata": {},
     "output_type": "display_data"
    },
    {
     "name": "stdout",
     "output_type": "stream",
     "text": [
      "----- Epoch 3 -----\n",
      "Loss: 0.010657565668225288\n",
      "Loss: 0.020544767379760742\n",
      "Loss: 0.01596563123166561\n",
      "Loss: 0.018381480127573013\n",
      "Loss: 0.011455439031124115\n"
     ]
    },
    {
     "data": {
      "application/vnd.jupyter.widget-view+json": {
       "model_id": "e25f2302e7d1432189b39277483bd718",
       "version_major": 2,
       "version_minor": 0
      },
      "text/plain": [
       "sampling loop time step:   0%|          | 0/400 [00:00<?, ?it/s]"
      ]
     },
     "metadata": {},
     "output_type": "display_data"
    },
    {
     "name": "stdout",
     "output_type": "stream",
     "text": [
      "----- Epoch 4 -----\n",
      "Loss: 0.013454689644277096\n",
      "Loss: 0.013603542931377888\n",
      "Loss: 0.01687248796224594\n",
      "Loss: 0.011719660833477974\n",
      "Loss: 0.008712531998753548\n"
     ]
    },
    {
     "data": {
      "application/vnd.jupyter.widget-view+json": {
       "model_id": "2a4d207478d74c478558c97e624e5f9d",
       "version_major": 2,
       "version_minor": 0
      },
      "text/plain": [
       "sampling loop time step:   0%|          | 0/400 [00:00<?, ?it/s]"
      ]
     },
     "metadata": {},
     "output_type": "display_data"
    },
    {
     "name": "stdout",
     "output_type": "stream",
     "text": [
      "----- Epoch 5 -----\n",
      "Loss: 0.010505253449082375\n",
      "Loss: 0.015453253872692585\n",
      "Loss: 0.01724545657634735\n",
      "Loss: 0.012691608630120754\n",
      "Loss: 0.010498435236513615\n"
     ]
    },
    {
     "data": {
      "application/vnd.jupyter.widget-view+json": {
       "model_id": "b4ac18d067ee4c6db656016876aadbe4",
       "version_major": 2,
       "version_minor": 0
      },
      "text/plain": [
       "sampling loop time step:   0%|          | 0/400 [00:00<?, ?it/s]"
      ]
     },
     "metadata": {},
     "output_type": "display_data"
    },
    {
     "name": "stdout",
     "output_type": "stream",
     "text": [
      "----- Epoch 6 -----\n",
      "Loss: 0.011743564158678055\n",
      "Loss: 0.012561692856252193\n",
      "Loss: 0.009861087426543236\n",
      "Loss: 0.012465291656553745\n",
      "Loss: 0.011887249536812305\n"
     ]
    },
    {
     "data": {
      "application/vnd.jupyter.widget-view+json": {
       "model_id": "c7867cd2d59d421980c1495aa35fa151",
       "version_major": 2,
       "version_minor": 0
      },
      "text/plain": [
       "sampling loop time step:   0%|          | 0/400 [00:00<?, ?it/s]"
      ]
     },
     "metadata": {},
     "output_type": "display_data"
    },
    {
     "name": "stdout",
     "output_type": "stream",
     "text": [
      "----- Epoch 7 -----\n",
      "Loss: 0.012052684091031551\n",
      "Loss: 0.01015407219529152\n",
      "Loss: 0.017957987263798714\n",
      "Loss: 0.01406739093363285\n",
      "Loss: 0.00924269761890173\n"
     ]
    },
    {
     "data": {
      "application/vnd.jupyter.widget-view+json": {
       "model_id": "54f8ea3bca0b408b9a32db426ce060c2",
       "version_major": 2,
       "version_minor": 0
      },
      "text/plain": [
       "sampling loop time step:   0%|          | 0/400 [00:00<?, ?it/s]"
      ]
     },
     "metadata": {},
     "output_type": "display_data"
    },
    {
     "name": "stdout",
     "output_type": "stream",
     "text": [
      "----- Epoch 8 -----\n",
      "Loss: 0.009467418305575848\n",
      "Loss: 0.00820563081651926\n",
      "Loss: 0.008248771540820599\n",
      "Loss: 0.010707647539675236\n",
      "Loss: 0.008900283835828304\n"
     ]
    },
    {
     "data": {
      "application/vnd.jupyter.widget-view+json": {
       "model_id": "2a3f65837096469e9c16fb2ad2ed7e7d",
       "version_major": 2,
       "version_minor": 0
      },
      "text/plain": [
       "sampling loop time step:   0%|          | 0/400 [00:00<?, ?it/s]"
      ]
     },
     "metadata": {},
     "output_type": "display_data"
    },
    {
     "name": "stdout",
     "output_type": "stream",
     "text": [
      "----- Epoch 9 -----\n",
      "Loss: 0.016496991738677025\n",
      "Loss: 0.008060198277235031\n",
      "Loss: 0.010226910933852196\n",
      "Loss: 0.00902412086725235\n",
      "Loss: 0.011431875638663769\n"
     ]
    },
    {
     "data": {
      "application/vnd.jupyter.widget-view+json": {
       "model_id": "2f2a26e32cfc447599c65ff447294ada",
       "version_major": 2,
       "version_minor": 0
      },
      "text/plain": [
       "sampling loop time step:   0%|          | 0/400 [00:00<?, ?it/s]"
      ]
     },
     "metadata": {},
     "output_type": "display_data"
    },
    {
     "name": "stdout",
     "output_type": "stream",
     "text": [
      "----- Epoch 10 -----\n",
      "Loss: 0.0065072583965957165\n",
      "Loss: 0.007598711643368006\n",
      "Loss: 0.011650270782411098\n",
      "Loss: 0.012425948865711689\n",
      "Loss: 0.00761006074026227\n"
     ]
    },
    {
     "data": {
      "application/vnd.jupyter.widget-view+json": {
       "model_id": "216726c0aba44580945128495aee11da",
       "version_major": 2,
       "version_minor": 0
      },
      "text/plain": [
       "sampling loop time step:   0%|          | 0/400 [00:00<?, ?it/s]"
      ]
     },
     "metadata": {},
     "output_type": "display_data"
    },
    {
     "name": "stdout",
     "output_type": "stream",
     "text": [
      "----- Epoch 11 -----\n",
      "Loss: 0.012995973229408264\n",
      "Loss: 0.013682471588253975\n",
      "Loss: 0.010569341480731964\n",
      "Loss: 0.00964801013469696\n",
      "Loss: 0.011438963934779167\n"
     ]
    },
    {
     "data": {
      "application/vnd.jupyter.widget-view+json": {
       "model_id": "63d6f667303242a2b39739f130171140",
       "version_major": 2,
       "version_minor": 0
      },
      "text/plain": [
       "sampling loop time step:   0%|          | 0/400 [00:00<?, ?it/s]"
      ]
     },
     "metadata": {},
     "output_type": "display_data"
    },
    {
     "name": "stdout",
     "output_type": "stream",
     "text": [
      "----- Epoch 12 -----\n",
      "Loss: 0.009818535298109055\n",
      "Loss: 0.013398959301412106\n",
      "Loss: 0.006713156122714281\n",
      "Loss: 0.007673848420381546\n",
      "Loss: 0.008089907467365265\n"
     ]
    },
    {
     "data": {
      "application/vnd.jupyter.widget-view+json": {
       "model_id": "df74cd7c38844332a36e5acf53541161",
       "version_major": 2,
       "version_minor": 0
      },
      "text/plain": [
       "sampling loop time step:   0%|          | 0/400 [00:00<?, ?it/s]"
      ]
     },
     "metadata": {},
     "output_type": "display_data"
    },
    {
     "name": "stdout",
     "output_type": "stream",
     "text": [
      "----- Epoch 13 -----\n",
      "Loss: 0.010165541432797909\n",
      "Loss: 0.010417346842586994\n",
      "Loss: 0.009655976668000221\n",
      "Loss: 0.010138256475329399\n",
      "Loss: 0.010994517244398594\n"
     ]
    },
    {
     "data": {
      "application/vnd.jupyter.widget-view+json": {
       "model_id": "4ec98d3ea8634d65b7df49f6fe771b28",
       "version_major": 2,
       "version_minor": 0
      },
      "text/plain": [
       "sampling loop time step:   0%|          | 0/400 [00:00<?, ?it/s]"
      ]
     },
     "metadata": {},
     "output_type": "display_data"
    },
    {
     "name": "stdout",
     "output_type": "stream",
     "text": [
      "----- Epoch 14 -----\n",
      "Loss: 0.009733714163303375\n",
      "Loss: 0.008781983517110348\n",
      "Loss: 0.01073751412332058\n",
      "Loss: 0.010443484410643578\n",
      "Loss: 0.008386719040572643\n"
     ]
    },
    {
     "data": {
      "application/vnd.jupyter.widget-view+json": {
       "model_id": "dc53a16a0eb34d4fbaffd12f54dea522",
       "version_major": 2,
       "version_minor": 0
      },
      "text/plain": [
       "sampling loop time step:   0%|          | 0/400 [00:00<?, ?it/s]"
      ]
     },
     "metadata": {},
     "output_type": "display_data"
    },
    {
     "name": "stdout",
     "output_type": "stream",
     "text": [
      "----- Epoch 15 -----\n",
      "Loss: 0.008889253251254559\n",
      "Loss: 0.008056473918259144\n",
      "Loss: 0.011101697571575642\n",
      "Loss: 0.009799398481845856\n",
      "Loss: 0.011969531886279583\n"
     ]
    },
    {
     "data": {
      "application/vnd.jupyter.widget-view+json": {
       "model_id": "cd9b453615ef444dbef7605d1f3e62dd",
       "version_major": 2,
       "version_minor": 0
      },
      "text/plain": [
       "sampling loop time step:   0%|          | 0/400 [00:00<?, ?it/s]"
      ]
     },
     "metadata": {},
     "output_type": "display_data"
    },
    {
     "name": "stdout",
     "output_type": "stream",
     "text": [
      "----- Epoch 16 -----\n",
      "Loss: 0.007243541534990072\n",
      "Loss: 0.009380705654621124\n",
      "Loss: 0.006471205037087202\n",
      "Loss: 0.009218051098287106\n",
      "Loss: 0.010044381953775883\n"
     ]
    },
    {
     "data": {
      "application/vnd.jupyter.widget-view+json": {
       "model_id": "e783bf5b585f44309872abd05d1e3452",
       "version_major": 2,
       "version_minor": 0
      },
      "text/plain": [
       "sampling loop time step:   0%|          | 0/400 [00:00<?, ?it/s]"
      ]
     },
     "metadata": {},
     "output_type": "display_data"
    },
    {
     "name": "stdout",
     "output_type": "stream",
     "text": [
      "----- Epoch 17 -----\n",
      "Loss: 0.007372910622507334\n",
      "Loss: 0.009006164968013763\n",
      "Loss: 0.010679683648049831\n",
      "Loss: 0.0120657654479146\n",
      "Loss: 0.0075708781369030476\n"
     ]
    },
    {
     "data": {
      "application/vnd.jupyter.widget-view+json": {
       "model_id": "ed2c3d98d0d14935ae9fcd63a21fe4d7",
       "version_major": 2,
       "version_minor": 0
      },
      "text/plain": [
       "sampling loop time step:   0%|          | 0/400 [00:00<?, ?it/s]"
      ]
     },
     "metadata": {},
     "output_type": "display_data"
    },
    {
     "name": "stdout",
     "output_type": "stream",
     "text": [
      "----- Epoch 18 -----\n",
      "Loss: 0.015981223434209824\n",
      "Loss: 0.008337846025824547\n",
      "Loss: 0.013716813176870346\n",
      "Loss: 0.006008189171552658\n",
      "Loss: 0.00785310659557581\n"
     ]
    },
    {
     "data": {
      "application/vnd.jupyter.widget-view+json": {
       "model_id": "5d0dbb1ec668407ca65e3d6c9b990eb3",
       "version_major": 2,
       "version_minor": 0
      },
      "text/plain": [
       "sampling loop time step:   0%|          | 0/400 [00:00<?, ?it/s]"
      ]
     },
     "metadata": {},
     "output_type": "display_data"
    },
    {
     "name": "stdout",
     "output_type": "stream",
     "text": [
      "----- Epoch 19 -----\n",
      "Loss: 0.008969130925834179\n",
      "Loss: 0.007288250140845776\n",
      "Loss: 0.009581678546965122\n",
      "Loss: 0.006205173674970865\n",
      "Loss: 0.009344479069113731\n"
     ]
    },
    {
     "data": {
      "application/vnd.jupyter.widget-view+json": {
       "model_id": "c23ef6f523d84f759da9b9bc230fb119",
       "version_major": 2,
       "version_minor": 0
      },
      "text/plain": [
       "sampling loop time step:   0%|          | 0/400 [00:00<?, ?it/s]"
      ]
     },
     "metadata": {},
     "output_type": "display_data"
    },
    {
     "name": "stdout",
     "output_type": "stream",
     "text": [
      "----- Epoch 20 -----\n",
      "Loss: 0.007440801244229078\n",
      "Loss: 0.008526885882019997\n",
      "Loss: 0.008526531048119068\n",
      "Loss: 0.008383418433368206\n",
      "Loss: 0.007449592929333448\n"
     ]
    },
    {
     "data": {
      "application/vnd.jupyter.widget-view+json": {
       "model_id": "eaf8966b3ddb470886a8e5149918e27d",
       "version_major": 2,
       "version_minor": 0
      },
      "text/plain": [
       "sampling loop time step:   0%|          | 0/400 [00:00<?, ?it/s]"
      ]
     },
     "metadata": {},
     "output_type": "display_data"
    },
    {
     "name": "stdout",
     "output_type": "stream",
     "text": [
      "----- Epoch 21 -----\n",
      "Loss: 0.008815951645374298\n",
      "Loss: 0.008836102671921253\n",
      "Loss: 0.006593852303922176\n",
      "Loss: 0.007719450164586306\n",
      "Loss: 0.006735685281455517\n"
     ]
    },
    {
     "data": {
      "application/vnd.jupyter.widget-view+json": {
       "model_id": "68640b82fa004d2f8933bdcd67b7d382",
       "version_major": 2,
       "version_minor": 0
      },
      "text/plain": [
       "sampling loop time step:   0%|          | 0/400 [00:00<?, ?it/s]"
      ]
     },
     "metadata": {},
     "output_type": "display_data"
    },
    {
     "name": "stdout",
     "output_type": "stream",
     "text": [
      "----- Epoch 22 -----\n",
      "Loss: 0.009693879634141922\n",
      "Loss: 0.007329012732952833\n",
      "Loss: 0.007731723133474588\n",
      "Loss: 0.010204391553997993\n",
      "Loss: 0.006983908824622631\n"
     ]
    },
    {
     "data": {
      "application/vnd.jupyter.widget-view+json": {
       "model_id": "7dbc240f8d0b4e159f3ff20d746b4624",
       "version_major": 2,
       "version_minor": 0
      },
      "text/plain": [
       "sampling loop time step:   0%|          | 0/400 [00:00<?, ?it/s]"
      ]
     },
     "metadata": {},
     "output_type": "display_data"
    },
    {
     "name": "stdout",
     "output_type": "stream",
     "text": [
      "Total training time = 279.029 sec\n"
     ]
    }
   ],
   "source": [
    "# Training model\n",
    "\n",
    "epochs = 22\n",
    "log_path = \"logging_cells\"\n",
    "log_interval = len(train_loader) // 4\n",
    "\n",
    "loss_progress = train(\n",
    "    model,\n",
    "    diffusion,\n",
    "    timesteps,\n",
    "    train_loader,\n",
    "    epochs,\n",
    "    optimizer,\n",
    "    device,\n",
    "    log_path,\n",
    "    log_interval,\n",
    ")"
   ]
  },
  {
   "cell_type": "code",
   "execution_count": 18,
   "metadata": {},
   "outputs": [
    {
     "data": {
      "text/plain": [
       "Text(0.5, 1.0, 'Loss per each step')"
      ]
     },
     "execution_count": 18,
     "metadata": {},
     "output_type": "execute_result"
    },
    {
     "data": {
      "image/png": "[encoded data removed]",
      "text/plain": [
       "<Figure size 640x480 with 1 Axes>"
      ]
     },
     "metadata": {},
     "output_type": "display_data"
    }
   ],
   "source": [
    "plt.plot(loss_progress)\n",
    "plt.xlabel(\"Step\")\n",
    "plt.title(\"Loss per each step\")"
   ]
  },
  {
   "cell_type": "code",
   "execution_count": 26,
   "metadata": {},
   "outputs": [],
   "source": [
    "# Save trained model\n",
    "\n",
    "torch.save(model, f\"cell_ddpm_{timesteps}_steps_{epochs}_epochs.pt\")"
   ]
  },
  {
   "cell_type": "code",
   "execution_count": null,
   "metadata": {},
   "outputs": [],
   "source": [
    "# Load pretrained model\n",
    "\n",
    "model = torch.load(\"cell_ddpm_400_steps_25_epochs.pt\")\n",
    "model.eval()"
   ]
  },
  {
   "cell_type": "code",
   "execution_count": 30,
   "metadata": {},
   "outputs": [
    {
     "data": {
      "application/vnd.jupyter.widget-view+json": {
       "model_id": "f0fa67a13fc84807b19d549154890301",
       "version_major": 2,
       "version_minor": 0
      },
      "text/plain": [
       "sampling loop time step:   0%|          | 0/400 [00:00<?, ?it/s]"
      ]
     },
     "metadata": {},
     "output_type": "display_data"
    },
    {
     "data": {
      "image/png": "[encoded data removed]",
      "text/plain": [
       "<PIL.Image.Image image mode=RGB size=332x332>"
      ]
     },
     "metadata": {},
     "output_type": "display_data"
    }
   ],
   "source": [
    "# Create grid of generated samples and show it\n",
    "\n",
    "samples = show_grid_samples(25, diffusion, model, image_size, channels, \"grid_cells\")"
   ]
  },
  {
   "cell_type": "code",
   "execution_count": null,
   "metadata": {},
   "outputs": [],
   "source": [
    "# Create animation for one cell\n",
    "create_animation(\"denoising_cell\", samples, -3, timesteps)"
   ]
  },
  {
   "cell_type": "code",
   "execution_count": 9,
   "metadata": {},
   "outputs": [
    {
     "data": {
      "application/vnd.jupyter.widget-view+json": {
       "model_id": "6918e942c3a64aaf82bc48050e900039",
       "version_major": 2,
       "version_minor": 0
      },
      "text/plain": [
       "sampling loop time step:   0%|          | 0/400 [00:00<?, ?it/s]"
      ]
     },
     "metadata": {},
     "output_type": "display_data"
    }
   ],
   "source": [
    "# Generate many new separate samples and save them\n",
    "\n",
    "generate_and_save_samples(sample_dir, 20, 20, diffusion, model, image_size, channels)"
   ]
  },
  {
   "cell_type": "code",
   "execution_count": 25,
   "metadata": {},
   "outputs": [
    {
     "data": {
      "application/vnd.jupyter.widget-view+json": {
       "model_id": "afbd0e4a61a0436e958db09740edfff3",
       "version_major": 2,
       "version_minor": 0
      },
      "text/plain": [
       "sampling loop time step:   0%|          | 0/400 [00:00<?, ?it/s]"
      ]
     },
     "metadata": {},
     "output_type": "display_data"
    },
    {
     "data": {
      "application/vnd.jupyter.widget-view+json": {
       "model_id": "ac3727312f1142c498dc23b6917190e5",
       "version_major": 2,
       "version_minor": 0
      },
      "text/plain": [
       "sampling loop time step:   0%|          | 0/400 [00:00<?, ?it/s]"
      ]
     },
     "metadata": {},
     "output_type": "display_data"
    },
    {
     "data": {
      "application/vnd.jupyter.widget-view+json": {
       "model_id": "7ea6b4f7aec74af0b3624e5eab8c6bfd",
       "version_major": 2,
       "version_minor": 0
      },
      "text/plain": [
       "sampling loop time step:   0%|          | 0/400 [00:00<?, ?it/s]"
      ]
     },
     "metadata": {},
     "output_type": "display_data"
    },
    {
     "data": {
      "application/vnd.jupyter.widget-view+json": {
       "model_id": "c22850c4dbe64d4c9fa52a7259f2ee2a",
       "version_major": 2,
       "version_minor": 0
      },
      "text/plain": [
       "sampling loop time step:   0%|          | 0/400 [00:00<?, ?it/s]"
      ]
     },
     "metadata": {},
     "output_type": "display_data"
    },
    {
     "data": {
      "application/vnd.jupyter.widget-view+json": {
       "model_id": "388b3f5611204a79a9ae28fa3cf8de5c",
       "version_major": 2,
       "version_minor": 0
      },
      "text/plain": [
       "sampling loop time step:   0%|          | 0/400 [00:00<?, ?it/s]"
      ]
     },
     "metadata": {},
     "output_type": "display_data"
    },
    {
     "data": {
      "application/vnd.jupyter.widget-view+json": {
       "model_id": "b18ebc2633d24a5da9f99bd4a84e8712",
       "version_major": 2,
       "version_minor": 0
      },
      "text/plain": [
       "sampling loop time step:   0%|          | 0/400 [00:00<?, ?it/s]"
      ]
     },
     "metadata": {},
     "output_type": "display_data"
    },
    {
     "data": {
      "application/vnd.jupyter.widget-view+json": {
       "model_id": "12d964c0c65849cf957a1f3df3348df2",
       "version_major": 2,
       "version_minor": 0
      },
      "text/plain": [
       "sampling loop time step:   0%|          | 0/400 [00:00<?, ?it/s]"
      ]
     },
     "metadata": {},
     "output_type": "display_data"
    },
    {
     "data": {
      "application/vnd.jupyter.widget-view+json": {
       "model_id": "014ffdfcba314097acc45d75ab287352",
       "version_major": 2,
       "version_minor": 0
      },
      "text/plain": [
       "sampling loop time step:   0%|          | 0/400 [00:00<?, ?it/s]"
      ]
     },
     "metadata": {},
     "output_type": "display_data"
    },
    {
     "name": "stdout",
     "output_type": "stream",
     "text": [
      "560 samples are generated, time = 101.304 sec\n",
      "FID is computed, time = 135.407 sec\n",
      "feature = 2048, FID = tensor(139.3082)\n"
     ]
    }
   ],
   "source": [
    "# Count FID metric\n",
    "\n",
    "feature = 2048\n",
    "print(\n",
    "    f\"feature = {feature}, FID =\",\n",
    "    count_fid_metric(\n",
    "        train_loader, diffusion, model, image_size, channels, 500, feature\n",
    "    ),\n",
    ")"
   ]
  }
 ],
 "metadata": {
  "kernelspec": {
   "display_name": "venv",
   "language": "python",
   "name": "python3"
  },
  "language_info": {
   "codemirror_mode": {
    "name": "ipython",
    "version": 3
   },
   "file_extension": ".py",
   "mimetype": "text/x-python",
   "name": "python",
   "nbconvert_exporter": "python",
   "pygments_lexer": "ipython3",
   "version": "3.10.11"
  },
  "orig_nbformat": 4
 },
 "nbformat": 4,
 "nbformat_minor": 2
}
